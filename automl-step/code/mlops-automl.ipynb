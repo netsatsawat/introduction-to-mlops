{
 "cells": [
  {
   "cell_type": "markdown",
   "id": "40247fad-ebe2-42e9-bfb6-c9fa1473fd37",
   "metadata": {},
   "source": [
    "# SageMaker Pipeline for MLOps\n",
    "---\n",
    "\n",
    "This notebook demonstrates how to build MLOps using SageMaker pipeline. I will also utilize **AutoML** instead of choosing the algorithm, training, and tuning it by myself.\n",
    "\n",
    "<div class=\"alert alert-block alert-info\">\n",
    "    This notebook runs on <i>ml.t3.medium</i> instance with <b>Data Science 3.0</b> Kernel.\n",
    "</div>\n",
    "\n",
    "#### Processing job may take sometimes to start before execution\n",
    "---\n",
    "\n",
    "During the processing step execution, you will experience a bit of **cold start** problem. This is the transient nature of compute clusters: every job execution runs on new EC2 cluster (the number of new EC2 will be based on your configuration). This is good for security, scalability, and fault tolerance.\n"
   ]
  },
  {
   "cell_type": "code",
   "execution_count": 2,
   "id": "8df044fb-c669-4f41-bc90-4b3623628414",
   "metadata": {
    "tags": []
   },
   "outputs": [],
   "source": [
    "import pandas as pd\n",
    "import numpy as np\n",
    "import json\n",
    "\n",
    "s3_bucket_name = 'ml-ai-demo-th'\n",
    "s3_init_prefix = 'mlops'"
   ]
  },
  {
   "cell_type": "markdown",
   "id": "a475f5f4-9c66-4ca8-bfe6-5df79a8d4c58",
   "metadata": {},
   "source": [
    "## A bit on sample dataset\n",
    "---\n",
    "\n",
    "In this demonstrate, I will use the dataset from UCI, you can find the dataset [here](https://archive.ics.uci.edu/dataset/887/national+health+and+nutrition+health+survey+2013-2014+(nhanes)+age+prediction+subset). The objective here is to predict the age (binary classification).\n",
    "\n",
    "This dataset is already downloaded and provided in the `../data` directory.\n",
    "\n",
    "**Dataset citation**:\n",
    "```\n",
    "NA,NA. (2023). National Health and Nutrition Health Survey 2013-2014 (NHANES) Age Prediction Subset. UCI Machine Learning Repository. https://doi.org/10.24432/C5BS66.\n",
    "```"
   ]
  },
  {
   "cell_type": "code",
   "execution_count": 3,
   "id": "f93ae35d-f5e2-40bb-b321-28fd3a84a585",
   "metadata": {
    "tags": []
   },
   "outputs": [
    {
     "name": "stdout",
     "output_type": "stream",
     "text": [
      "Data set shape: (2278, 10)\n"
     ]
    },
    {
     "data": {
      "text/html": [
       "<div>\n",
       "<style scoped>\n",
       "    .dataframe tbody tr th:only-of-type {\n",
       "        vertical-align: middle;\n",
       "    }\n",
       "\n",
       "    .dataframe tbody tr th {\n",
       "        vertical-align: top;\n",
       "    }\n",
       "\n",
       "    .dataframe thead th {\n",
       "        text-align: right;\n",
       "    }\n",
       "</style>\n",
       "<table border=\"1\" class=\"dataframe\">\n",
       "  <thead>\n",
       "    <tr style=\"text-align: right;\">\n",
       "      <th></th>\n",
       "      <th>SEQN</th>\n",
       "      <th>age_group</th>\n",
       "      <th>RIDAGEYR</th>\n",
       "      <th>RIAGENDR</th>\n",
       "      <th>PAQ605</th>\n",
       "      <th>BMXBMI</th>\n",
       "      <th>LBXGLU</th>\n",
       "      <th>DIQ010</th>\n",
       "      <th>LBXGLT</th>\n",
       "      <th>LBXIN</th>\n",
       "    </tr>\n",
       "  </thead>\n",
       "  <tbody>\n",
       "    <tr>\n",
       "      <th>0</th>\n",
       "      <td>73564.0</td>\n",
       "      <td>Adult</td>\n",
       "      <td>61.0</td>\n",
       "      <td>2.0</td>\n",
       "      <td>2.0</td>\n",
       "      <td>35.7</td>\n",
       "      <td>110.0</td>\n",
       "      <td>2.0</td>\n",
       "      <td>150.0</td>\n",
       "      <td>14.91</td>\n",
       "    </tr>\n",
       "    <tr>\n",
       "      <th>1</th>\n",
       "      <td>73568.0</td>\n",
       "      <td>Adult</td>\n",
       "      <td>26.0</td>\n",
       "      <td>2.0</td>\n",
       "      <td>2.0</td>\n",
       "      <td>20.3</td>\n",
       "      <td>89.0</td>\n",
       "      <td>2.0</td>\n",
       "      <td>80.0</td>\n",
       "      <td>3.85</td>\n",
       "    </tr>\n",
       "    <tr>\n",
       "      <th>2</th>\n",
       "      <td>73576.0</td>\n",
       "      <td>Adult</td>\n",
       "      <td>16.0</td>\n",
       "      <td>1.0</td>\n",
       "      <td>2.0</td>\n",
       "      <td>23.2</td>\n",
       "      <td>89.0</td>\n",
       "      <td>2.0</td>\n",
       "      <td>68.0</td>\n",
       "      <td>6.14</td>\n",
       "    </tr>\n",
       "    <tr>\n",
       "      <th>3</th>\n",
       "      <td>73577.0</td>\n",
       "      <td>Adult</td>\n",
       "      <td>32.0</td>\n",
       "      <td>1.0</td>\n",
       "      <td>2.0</td>\n",
       "      <td>28.9</td>\n",
       "      <td>104.0</td>\n",
       "      <td>2.0</td>\n",
       "      <td>84.0</td>\n",
       "      <td>16.15</td>\n",
       "    </tr>\n",
       "    <tr>\n",
       "      <th>4</th>\n",
       "      <td>73580.0</td>\n",
       "      <td>Adult</td>\n",
       "      <td>38.0</td>\n",
       "      <td>2.0</td>\n",
       "      <td>1.0</td>\n",
       "      <td>35.9</td>\n",
       "      <td>103.0</td>\n",
       "      <td>2.0</td>\n",
       "      <td>81.0</td>\n",
       "      <td>10.92</td>\n",
       "    </tr>\n",
       "  </tbody>\n",
       "</table>\n",
       "</div>"
      ],
      "text/plain": [
       "      SEQN age_group  RIDAGEYR  RIAGENDR  PAQ605  BMXBMI  LBXGLU  DIQ010  \\\n",
       "0  73564.0     Adult      61.0       2.0     2.0    35.7   110.0     2.0   \n",
       "1  73568.0     Adult      26.0       2.0     2.0    20.3    89.0     2.0   \n",
       "2  73576.0     Adult      16.0       1.0     2.0    23.2    89.0     2.0   \n",
       "3  73577.0     Adult      32.0       1.0     2.0    28.9   104.0     2.0   \n",
       "4  73580.0     Adult      38.0       2.0     1.0    35.9   103.0     2.0   \n",
       "\n",
       "   LBXGLT  LBXIN  \n",
       "0   150.0  14.91  \n",
       "1    80.0   3.85  \n",
       "2    68.0   6.14  \n",
       "3    84.0  16.15  \n",
       "4    81.0  10.92  "
      ]
     },
     "metadata": {},
     "output_type": "display_data"
    },
    {
     "name": "stdout",
     "output_type": "stream",
     "text": [
      "Target distribution: (array(['Adult', 'Senior'], dtype=object), array([1914,  364]))\n"
     ]
    }
   ],
   "source": [
    "df = pd.read_csv('../data/NHANES_age_prediction.csv', header=0)\n",
    "print('Data set shape: {}'.format(df.shape))\n",
    "display(df.head())\n",
    "print('Target distribution: {}'.format(np.unique(df.age_group, return_counts=True)))"
   ]
  },
  {
   "cell_type": "markdown",
   "id": "50323e16-4577-48e8-9f83-34a72c979b7d",
   "metadata": {},
   "source": [
    "### Upload full dataset to S3 bucket\n",
    "---\n",
    "\n",
    "SageMaker pipeline will utilize various processing steps to read the dataset from Amazon S3, hence, I will upload this dataset to designated S3 bucket."
   ]
  },
  {
   "cell_type": "code",
   "execution_count": 4,
   "id": "8fcb9c1a-f734-48f4-9de9-53a01ae355f2",
   "metadata": {
    "tags": []
   },
   "outputs": [],
   "source": [
    "df.to_csv(\n",
    "    's3://{0}/{1}/nhanes-dataset/dataset.csv'.format(s3_bucket_name, s3_init_prefix), \n",
    "    header=True, index=False\n",
    ")"
   ]
  },
  {
   "cell_type": "markdown",
   "id": "046bc01d-20b2-4d5e-bd96-283959668210",
   "metadata": {},
   "source": [
    "## Define common parameters"
   ]
  },
  {
   "cell_type": "code",
   "execution_count": 5,
   "id": "df68a93a-9ca1-4a1e-84d4-de57d2025e62",
   "metadata": {},
   "outputs": [
    {
     "name": "stdout",
     "output_type": "stream",
     "text": [
      "sagemaker.config INFO - Not applying SDK defaults from location: /etc/xdg/sagemaker/config.yaml\n",
      "sagemaker.config INFO - Not applying SDK defaults from location: /root/.config/sagemaker/config.yaml\n"
     ]
    }
   ],
   "source": [
    "import sagemaker\n",
    "import boto3\n",
    "from sagemaker.workflow.pipeline_context import PipelineSession\n",
    "\n",
    "role_arn = sagemaker.get_execution_role()\n",
    "pipeline_session = PipelineSession()\n",
    "sm_client = boto3.client('sagemaker')"
   ]
  },
  {
   "cell_type": "markdown",
   "id": "079b2109-1b32-468c-98ea-b7a505ef5744",
   "metadata": {},
   "source": [
    "## Define Pipeline Parameters"
   ]
  },
  {
   "cell_type": "code",
   "execution_count": 6,
   "id": "f3b6c0f4-8e6a-45ab-a0ec-052c75081e11",
   "metadata": {},
   "outputs": [],
   "source": [
    "from sagemaker.workflow.parameters import ParameterFloat, ParameterInteger, ParameterString\n",
    "\n",
    "pipeline_automl_instance_type = ParameterString(\n",
    "    name='AutoMLInstanceType',\n",
    "    default_value='ml.c5.xlarge',\n",
    ")\n",
    "pipeline_instance_count = ParameterInteger(\n",
    "    name='InstanceCount',\n",
    "    default_value=1,\n",
    ")\n",
    "pipeline_max_automl_runtime = ParameterInteger(\n",
    "    name='MaxAutoMLRuntime',\n",
    "    default_value=3600*1,\n",
    ")\n",
    "pipeline_model_approval_status = ParameterString(\n",
    "    name='ModelApprovalStatus', \n",
    "    default_value='Approved'\n",
    ")\n",
    "\n",
    "pipeline_target_column_name = ParameterString(\n",
    "    name='TargetColumnName',\n",
    "    default_value='age_group',\n",
    ")"
   ]
  },
  {
   "cell_type": "markdown",
   "id": "43832525-4990-47c0-8a49-9194a2f3394d",
   "metadata": {},
   "source": [
    "## Data preprocessing\n",
    "---\n",
    "\n",
    "When we are dealing with building ML model, we first construct the dataset - i.e., feature engineering, train-test dataset splitting. For this step, I will demonstrate on how to use **ProcessingStep** to do this."
   ]
  },
  {
   "cell_type": "code",
   "execution_count": 7,
   "id": "b8893a32-626f-461e-ae6e-47fbef73319e",
   "metadata": {},
   "outputs": [],
   "source": [
    "script_path = 'script'\n",
    "%mkdir -p {script_path}"
   ]
  },
  {
   "cell_type": "markdown",
   "id": "e04f0f5d-0dc8-4a82-81ae-f4179381ba3b",
   "metadata": {},
   "source": [
    "### Define data processing script"
   ]
  },
  {
   "cell_type": "code",
   "execution_count": 8,
   "id": "bf3494cb-404a-40ab-9f2f-9c5b03b7c9cd",
   "metadata": {},
   "outputs": [
    {
     "name": "stdout",
     "output_type": "stream",
     "text": [
      "Overwriting script/data-processing.py\n"
     ]
    }
   ],
   "source": [
    "%%writefile {script_path}/data-processing.py\n",
    "\n",
    "''' \n",
    "Name: data-processing.py\n",
    "Description: This file is intended to conduct simple data processing before running an AutoML job\n",
    "'''\n",
    "import pandas as pd\n",
    "import numpy as np\n",
    "import logging\n",
    "import argparse\n",
    "import pathlib\n",
    "import os\n",
    "import json\n",
    "from sklearn.model_selection import train_test_split\n",
    "from typing import Tuple, Optional, Dict\n",
    "\n",
    "id_column_name = 'seqn'\n",
    "target_column_name = 'age_group'\n",
    "\n",
    "def train_val_test_split(\n",
    "    df: pd.DataFrame,\n",
    "    target_column_name: str,\n",
    "    args: argparse.Namespace\n",
    ") -> Tuple[pd.DataFrame, pd.DataFrame, pd.DataFrame]:\n",
    "    \n",
    "    train_df, test_df = train_test_split(\n",
    "        df, test_size=0.2, shuffle=True, stratify=df[target_column_name], random_state=args.random_state,\n",
    "    )\n",
    "    \n",
    "    train_df, val_df = train_test_split(\n",
    "        train_df, test_size=0.2, shuffle=True, \n",
    "        stratify=train_df[target_column_name], random_state=args.random_state,\n",
    "    )\n",
    "    logger.info('Train shape: {}'.format(train_df.shape))\n",
    "    logger.info('Val shape: {}'.format(val_df.shape))\n",
    "    logger.info('Test shape: {}'.format(test_df.shape))\n",
    "    \n",
    "    return train_df, val_df, test_df\n",
    "\n",
    "\n",
    "def create_features_spec(\n",
    "    df: pd.DataFrame,\n",
    "    id_column_name: Optional[str],\n",
    "    target_column_name: Optional[str]\n",
    ") -> Dict:\n",
    "    features_to_use = [x for x in df.columns.tolist() if (x != id_column_name) & (x != target_column_name)]\n",
    "    logger.info('The features specification: {}'.format(features_to_use))\n",
    "    features_dict = {\n",
    "        \"FeatureAttributeNames\": features_to_use\n",
    "    }\n",
    "    return features_dict\n",
    "\n",
    "\n",
    "if __name__ == '__main__':\n",
    "    # define logger\n",
    "    logger = logging.getLogger(__name__)\n",
    "    logging.basicConfig(\n",
    "        format='%(asctime)s %(levelname)s:%(message)s', \n",
    "        level=logging.INFO, \n",
    "        datefmt='%Y-%m-%d %I:%M:%S'\n",
    "    )\n",
    "    logger.setLevel(logging.INFO)\n",
    "    \n",
    "    # define argparse\n",
    "    parser = argparse.ArgumentParser(\n",
    "        description='Argument for processing job'\n",
    "    )\n",
    "    parser.add_argument(\n",
    "        '--source-file-name', type=str, default='dataset.csv',\n",
    "        help='File name to read (default: dataset.csv)'\n",
    "    )\n",
    "    parser.add_argument(\n",
    "        '--random-state', type=int, default=1234,\n",
    "        help='Random state during data shuffle / split (default: 1234)'\n",
    "    )\n",
    "    args = parser.parse_args()\n",
    "    \n",
    "    # main starts\n",
    "    input_data_path = os.path.join('/opt/ml/processing/input', args.source_file_name)\n",
    "    logger.info('Reading data from {}'.format(input_data_path))\n",
    "    df = pd.read_csv(input_data_path, header=0)\n",
    "    \n",
    "    # convert all column names to lower case\n",
    "    df.columns = [x.lower() for x in df.columns]\n",
    "\n",
    "    logger.info('Full data shape: {}'.format(df.shape))\n",
    "    train_df, val_df, test_df = train_val_test_split(\n",
    "        df=df.drop(id_column_name, axis=1, errors='ignore'), \n",
    "        target_column_name=target_column_name,\n",
    "        args=args,\n",
    "    )\n",
    "    logger.info('Writing to csv files')\n",
    "    train_df.to_csv('/opt/ml/processing/train/train.csv', header=True, index=False)\n",
    "    val_df.to_csv('/opt/ml/processing/validation/validation.csv', header=True, index=False)\n",
    "    test_df.to_csv('/opt/ml/processing/test/test.csv', header=True, index=False)\n",
    "    \n",
    "    test_df.drop(target_column_name, axis=1)\\\n",
    "      .to_csv('/opt/ml/processing/x_test/test-features-only.csv', header=False, index=False)\n",
    "    \n",
    "    test_df[target_column_name]\\\n",
    "      .to_csv('/opt/ml/processing/y_true/test-y-true.csv', header=False, index=False)\n",
    "    \n",
    "    feature_dict = create_features_spec(\n",
    "        df=train_df,\n",
    "        id_column_name=id_column_name,\n",
    "        target_column_name=target_column_name\n",
    "    )\n",
    "    feature_path = '/opt/ml/processing/feature-spec'\n",
    "    pathlib.Path(feature_path).mkdir(parents=True, exist_ok=True)\n",
    "    feature_file_name = os.path.join(feature_path, \"feature-specification.json\")\n",
    "    logger.info('Writing the features spec to: {}'.format(feature_file_name))\n",
    "    with open(feature_file_name, \"w\") as f:\n",
    "        f.write(json.dumps(feature_dict))\n",
    "    \n",
    "    logger.info('COMPLETED !!! ')"
   ]
  },
  {
   "cell_type": "markdown",
   "id": "6be42ee6-9f00-4d4f-8685-23a7276fdd4d",
   "metadata": {},
   "source": [
    "### Define Processing Step using SKLearnProcessor"
   ]
  },
  {
   "cell_type": "code",
   "execution_count": 9,
   "id": "f3fddd4e-e8ea-4d7a-a34f-99ad4a2d0372",
   "metadata": {},
   "outputs": [],
   "source": [
    "from sagemaker.sklearn.processing import SKLearnProcessor\n",
    "from sagemaker.processing import ProcessingInput, ProcessingOutput\n",
    "from sagemaker.workflow.steps import ProcessingStep\n",
    "\n",
    "sklearn_processor = SKLearnProcessor(\n",
    "    framework_version='1.0-1',\n",
    "    role=role_arn,\n",
    "    instance_type='ml.m5.xlarge',\n",
    "    instance_count=pipeline_instance_count,\n",
    "    sagemaker_session=pipeline_session,\n",
    ")\n",
    "\n",
    "inputs = [\n",
    "    ProcessingInput(\n",
    "        source='s3://{0}/{1}/nhanes-dataset/dataset.csv'.format(s3_bucket_name, s3_init_prefix), \n",
    "        destination=\"/opt/ml/processing/input\"),\n",
    "]\n",
    "outputs = [\n",
    "    ProcessingOutput(\n",
    "        output_name='train-dataset', \n",
    "        source='/opt/ml/processing/train',\n",
    "        destination='s3://{0}/{1}/nhanes-train-dataset/'.format(s3_bucket_name, s3_init_prefix), \n",
    "    ),\n",
    "    ProcessingOutput(\n",
    "        output_name='validation-dataset', \n",
    "        source='/opt/ml/processing/validation',\n",
    "        destination='s3://{0}/{1}/nhanes-validation-dataset/'.format(s3_bucket_name, s3_init_prefix), \n",
    "    ),\n",
    "    ProcessingOutput(\n",
    "        output_name='test-dataset', \n",
    "        source='/opt/ml/processing/test',\n",
    "        destination='s3://{0}/{1}/nhanes-test-dataset/'.format(s3_bucket_name, s3_init_prefix), \n",
    "    ),\n",
    "    ProcessingOutput(\n",
    "        output_name='test-features-only', \n",
    "        source=\"/opt/ml/processing/x_test\",\n",
    "        destination='s3://{0}/{1}/nhanes-test-features-only/'.format(s3_bucket_name, s3_init_prefix), \n",
    "    ),\n",
    "    ProcessingOutput(\n",
    "        output_name='test-label-only',\n",
    "        source='/opt/ml/processing/y_true',\n",
    "        destination='s3://{0}/{1}/nhanes-test-label-only/'.format(s3_bucket_name, s3_init_prefix), \n",
    "    ),\n",
    "    ProcessingOutput(\n",
    "        output_name='features-specification',\n",
    "        source='/opt/ml/processing/feature-spec',\n",
    "        destination='s3://{0}/{1}/nhanes-features-to-use/'.format(s3_bucket_name, s3_init_prefix), \n",
    "    ),\n",
    "]\n",
    "\n",
    "data_processing_step = ProcessingStep(\n",
    "    name=\"DataProcessingStep\",\n",
    "    processor=sklearn_processor,\n",
    "    inputs=inputs,\n",
    "    outputs=outputs,\n",
    "    code='script/data-processing.py',\n",
    "    job_arguments=[\n",
    "        '--random-state', '515'\n",
    "    ]\n",
    ")\n"
   ]
  },
  {
   "cell_type": "markdown",
   "id": "60ca6c99-29a4-4ca0-94e8-7c0c460e5f27",
   "metadata": {},
   "source": [
    "## AutoML Training Step\n",
    "---\n",
    "\n",
    "An **AutoML object** is used to define the Autopilot training job run and can be added to the SageMaker pipeline by using the `AutoMLStep` class, as shown in the following code. \n",
    "\n",
    "The **Ensembling** training mode needs to be specified, but other parameters can be adjusted as needed. For example, instead of letting the AutoML job automatically infer the ML problem type and objective metric, these could be hardcoded by specifying the `problem_type` and `job_objective` parameters passed to the `AutoML` object."
   ]
  },
  {
   "cell_type": "code",
   "execution_count": 10,
   "id": "5b364b04-8c88-4ce3-96cb-99688df973a9",
   "metadata": {},
   "outputs": [
    {
     "name": "stderr",
     "output_type": "stream",
     "text": [
      "/opt/conda/lib/python3.10/site-packages/sagemaker/workflow/pipeline_context.py:332: UserWarning: Running within a PipelineSession, there will be No Wait, No Logs, and No Job being started.\n",
      "  warnings.warn(\n"
     ]
    }
   ],
   "source": [
    "from sagemaker.workflow.automl_step import AutoMLStep\n",
    "from sagemaker.automl.automl import AutoMLInput\n",
    "\n",
    "automl = sagemaker.AutoML(\n",
    "    role=role_arn,\n",
    "    output_path='s3://{0}/{1}/nhanes-automl-model/'.format(s3_bucket_name, s3_init_prefix),\n",
    "    target_attribute_name=pipeline_target_column_name,\n",
    "    sagemaker_session=pipeline_session,\n",
    "    total_job_runtime_in_seconds=pipeline_max_automl_runtime,\n",
    "    mode='ENSEMBLING',  \n",
    "    problem_type='BinaryClassification',\n",
    "    job_objective={\n",
    "        'MetricName': 'F1'\n",
    "    },\n",
    "    feature_specification_s3_uri='s3://ml-ai-demo-th/mlops/nhanes-features-to-use/feature-specification.json',\n",
    "    generate_candidate_definitions_only=False,\n",
    ")\n",
    "\n",
    "train_args = automl.fit(\n",
    "    inputs=[\n",
    "        AutoMLInput(\n",
    "            inputs=data_processing_step.properties.ProcessingOutputConfig.Outputs[\n",
    "                'train-dataset'\n",
    "            ].S3Output.S3Uri,\n",
    "            target_attribute_name=pipeline_target_column_name,\n",
    "            channel_type='training',\n",
    "        ),\n",
    "        AutoMLInput(\n",
    "            inputs=data_processing_step.properties.ProcessingOutputConfig.Outputs[\n",
    "                'validation-dataset'\n",
    "            ].S3Output.S3Uri,\n",
    "            target_attribute_name=pipeline_target_column_name,\n",
    "            channel_type='validation',\n",
    "        )\n",
    "    ],\n",
    "    job_name='mlops-automl',\n",
    ")\n",
    "\n",
    "automl_step = AutoMLStep(\n",
    "    name=\"AutoMLTrainingStep\",\n",
    "    step_args=train_args,\n",
    ")"
   ]
  },
  {
   "cell_type": "markdown",
   "id": "82416c83-4d4f-4deb-82f8-a3023171957f",
   "metadata": {},
   "source": [
    "## Create the best model from pipeline\n",
    "---\n",
    "\n",
    "Once the **AutoML** step finishes, it takes care of generating various machine learning candidate models, combining them, and obtaining the best performing model. Model artefacts and metadata are automatically stored and can be obtained by calling the `get_best_auto_ml_model()` method on the AutoML training step. These can then be used to create a SageMaker model as part of the Model step."
   ]
  },
  {
   "cell_type": "code",
   "execution_count": 11,
   "id": "aa74ff86-a50e-4f90-9896-c95d4eeb9512",
   "metadata": {},
   "outputs": [],
   "source": [
    "from sagemaker.workflow.model_step import ModelStep\n",
    "\n",
    "best_automl_model = automl_step.get_best_auto_ml_model(\n",
    "    role_arn, \n",
    "    sagemaker_session=pipeline_session,\n",
    ")\n",
    "create_model_step_args = best_automl_model.create(\n",
    "    instance_type=pipeline_automl_instance_type\n",
    ")\n",
    "create_best_model_step = ModelStep(\n",
    "    name='CreateBestAutoMLStep',\n",
    "    step_args=create_model_step_args\n",
    ")"
   ]
  },
  {
   "cell_type": "markdown",
   "id": "ec592cd5-f379-4c5a-87d1-17ed94ee797e",
   "metadata": {},
   "source": [
    "## Batch transform step\n",
    "---\n",
    "Next, once we have the model object, we can use the **Transformer object** for <u>batch inference</u> on the test dataset, which can then be used for evaluation purpose."
   ]
  },
  {
   "cell_type": "code",
   "execution_count": 12,
   "id": "ae4e6d74-821a-45ac-a0e0-e7cc4e2d5907",
   "metadata": {
    "tags": []
   },
   "outputs": [],
   "source": [
    "from sagemaker.transformer import Transformer\n",
    "from sagemaker.workflow.functions import Join\n",
    "from sagemaker.workflow.steps import TransformStep\n",
    "\n",
    "batch_transformer = Transformer(\n",
    "    model_name=create_best_model_step.properties.ModelName,\n",
    "    instance_count=pipeline_instance_count,\n",
    "    instance_type=pipeline_automl_instance_type,\n",
    "    output_path=Join(\n",
    "        on='/', \n",
    "        values=['s3:/', s3_bucket_name, s3_init_prefix, 'nhanes-output', 'batch-transform']\n",
    "    ),\n",
    "    sagemaker_session=pipeline_session,\n",
    ")\n",
    "batch_transform_step = TransformStep(\n",
    "    name=\"BatchTransformStep\",\n",
    "    step_args=batch_transformer.transform(\n",
    "        data=data_processing_step.properties.ProcessingOutputConfig.Outputs['test-features-only'].S3Output.S3Uri,\n",
    "        content_type=\"text/csv\"\n",
    "    ),\n",
    ")"
   ]
  },
  {
   "cell_type": "markdown",
   "id": "e7d05677-4779-4787-8ebd-4a32f719ba7e",
   "metadata": {},
   "source": [
    "## Model evaluation\n",
    "---\n",
    "\n",
    "In the previous step, I have defined batch predictions on the dataset. The prediction output will be saved onto the specified folder. \n",
    "\n",
    "Next, we can set up the **processing step / job** to compute the model metrics using **sklearn.metrics**, i.e., F1 score, accuracy score, or other metrics based on your business needs."
   ]
  },
  {
   "cell_type": "markdown",
   "id": "ba4c3c5e-b1d6-4085-a4fa-df50184f7dce",
   "metadata": {},
   "source": [
    "### Define Evaluation Script"
   ]
  },
  {
   "cell_type": "code",
   "execution_count": 13,
   "id": "dd4d9c9b-1901-45ac-9d1c-356ac342b406",
   "metadata": {},
   "outputs": [
    {
     "name": "stdout",
     "output_type": "stream",
     "text": [
      "Overwriting script/model-evaluation.py\n"
     ]
    }
   ],
   "source": [
    "%%writefile {script_path}/model-evaluation.py\n",
    "import json\n",
    "import os\n",
    "import pathlib\n",
    "import pandas as pd\n",
    "import logging\n",
    "from typing import Dict\n",
    "from sklearn.metrics import confusion_matrix, accuracy_score\n",
    "\n",
    "def get_binary_classification_metrics(\n",
    "    y_true: pd.DataFrame, \n",
    "    y_pred: pd.DataFrame\n",
    ") -> Dict:\n",
    "    cm = confusion_matrix(y_true, y_pred)\n",
    "    tp, fp, fn, tn = cm[0][0], cm[0][1], cm[1][0], cm[1][1]\n",
    "    precision_scor = tp / (tp + fp)\n",
    "    recall_scor = tp / (tp + fn)\n",
    "    f1_scor = (2*precision_scor*recall_scor) / (precision_scor + recall_scor)\n",
    "    specificity_scor = tn / (tn + fp)\n",
    "    metrics_dict = {\n",
    "        'classification_metrics': {\n",
    "            \"f1_score\": {\n",
    "                \"value\": f1_scor,\n",
    "            },\n",
    "            \"recall_score\": {\n",
    "                \"value\": recall_scor,\n",
    "            },\n",
    "            \"precision_score\": {\n",
    "                \"value\": precision_scor,\n",
    "            },\n",
    "            'specificity': {\n",
    "                'value': specificity_scor\n",
    "            },\n",
    "        },\n",
    "    }\n",
    "    return metrics_dict\n",
    "    \n",
    "\n",
    "if __name__ == \"__main__\":\n",
    "    logger = logging.getLogger(__name__)\n",
    "    logging.basicConfig(\n",
    "        format='%(asctime)s %(levelname)s:%(message)s', \n",
    "        level=logging.INFO, \n",
    "        datefmt='%Y-%m-%d %I:%M:%S'\n",
    "    )\n",
    "    logger.setLevel(logging.INFO)\n",
    "    pred_path = '/opt/ml/processing/input/predictions/'\n",
    "    true_path = '/opt/ml/processing/input/true_labels/'\n",
    "    pred_file_nm = os.listdir(pred_path)[0]\n",
    "    true_file_nm = os.listdir(true_path)[0]\n",
    "    y_pred = pd.read_csv(os.path.join(pred_path, pred_file_nm), header=None)\n",
    "    y_true = pd.read_csv(os.path.join(true_path, true_file_nm), header=None)\n",
    "    logger.info('Pred: {}'.format(y_pred.shape))\n",
    "    logger.info('True: {}'.format(y_true.shape))\n",
    "    assert y_pred.shape[0] == y_true.shape[0], 'Something wrong, please review the data source'\n",
    "    \n",
    "    report_dict = get_binary_classification_metrics(y_true, y_pred)\n",
    "    output_dir = \"/opt/ml/processing/evaluation\"\n",
    "    pathlib.Path(output_dir).mkdir(parents=True, exist_ok=True)\n",
    "    evaluation_path = os.path.join(output_dir, \"evaluation_metrics.json\")\n",
    "    logger.info('Writing the output to: {}'.format(evaluation_path))\n",
    "    with open(evaluation_path, \"w\") as f:\n",
    "        f.write(json.dumps(report_dict))\n",
    "        \n",
    "    logger.info('Completed!!!')"
   ]
  },
  {
   "cell_type": "markdown",
   "id": "ba2e8c18-581a-4fb3-99d2-a7991a891283",
   "metadata": {},
   "source": [
    "### Define Processing Step\n",
    "---\n",
    "\n",
    "The ML model performance is captured in the form of an evaluation report in JSON format that is uploaded to S3 by the Evaluation Step and made available to other pipeline steps in the form of a property file:\n",
    "\n"
   ]
  },
  {
   "cell_type": "code",
   "execution_count": 14,
   "id": "62bf8ebe-3575-465e-9fbf-f54aad3ce1d6",
   "metadata": {},
   "outputs": [],
   "source": [
    "from sagemaker.workflow.properties import PropertyFile\n",
    "\n",
    "evaluation_report = PropertyFile(\n",
    "    name='evaluation-file', \n",
    "    output_name='model-evaluation', \n",
    "    path='evaluation_metrics.json'\n",
    ")\n",
    "\n",
    "eval_processor = SKLearnProcessor(\n",
    "    role=role_arn,\n",
    "    framework_version='1.0-1',\n",
    "    instance_count=pipeline_instance_count,\n",
    "    instance_type='ml.m5.xlarge',\n",
    "    sagemaker_session=pipeline_session,\n",
    ")\n",
    "\n",
    "eval_processor_step_args = eval_processor.run(\n",
    "    inputs=[\n",
    "        ProcessingInput(\n",
    "            source=batch_transform_step.properties.TransformOutput.S3OutputPath,\n",
    "            destination=\"/opt/ml/processing/input/predictions\",\n",
    "        ),\n",
    "        ProcessingInput(\n",
    "            source=data_processing_step.properties.ProcessingOutputConfig.Outputs[\n",
    "                'test-label-only'\n",
    "            ].S3Output.S3Uri,\n",
    "            destination='/opt/ml/processing/input/true_labels'\n",
    "        ),\n",
    "    ],\n",
    "    outputs=[\n",
    "        ProcessingOutput(\n",
    "            output_name='model-evaluation',\n",
    "            source=\"/opt/ml/processing/evaluation\",\n",
    "            destination='s3://{0}/{1}/nhanes-output/evaluation-metrics/'.format(s3_bucket_name, s3_init_prefix),\n",
    "        ),\n",
    "    ],\n",
    "    code='script/model-evaluation.py',\n",
    ")\n",
    "eval_step = ProcessingStep(\n",
    "    name=\"ModelEvaluationStep\",\n",
    "    step_args=eval_processor_step_args,\n",
    "    property_files=[evaluation_report],\n",
    ")"
   ]
  },
  {
   "cell_type": "markdown",
   "id": "1973cef5-44ca-4780-b34f-bf51e12b7dec",
   "metadata": {},
   "source": [
    "## Conditional Model Registration Step\n",
    "---\n",
    "\n",
    "As part of MLOps, we should utilize **SageMaker model registry** to register the AutoML model. We can define the metric threshold as part of register into the model registry.\n",
    "\n",
    "In this example, I will only register the model with `F1 score >= 0.8`."
   ]
  },
  {
   "cell_type": "markdown",
   "id": "85790fb5-2f65-4df3-ac11-bdd500a0d802",
   "metadata": {},
   "source": [
    "### Define pipeline parameters related to model registration\n",
    "---\n",
    "\n",
    "Define additional parameters to input to the pipeline."
   ]
  },
  {
   "cell_type": "code",
   "execution_count": 15,
   "id": "af86278f-6433-40ac-8baf-a115f2696c6c",
   "metadata": {},
   "outputs": [],
   "source": [
    "pipeline_model_package_group_name = ParameterString(\n",
    "    name='ModelPackageName', \n",
    "    default_value='AutoMLForNHANESdataset',\n",
    ")\n",
    "\n",
    "pipeline_model_metric_threshold = ParameterFloat(\n",
    "    name='ModelRegistrationMetricThreshold', default_value=0.8\n",
    ")"
   ]
  },
  {
   "cell_type": "markdown",
   "id": "9921ed2e-840a-4bb3-bc76-aa2084a2bcd8",
   "metadata": {},
   "source": [
    "### Define register step"
   ]
  },
  {
   "cell_type": "code",
   "execution_count": 16,
   "id": "1c0c2e67-3fae-4e22-9403-c3ff456c2027",
   "metadata": {},
   "outputs": [],
   "source": [
    "from sagemaker import ModelMetrics, ModelPackage, MetricsSource\n",
    "\n",
    "model_metrics = ModelMetrics(\n",
    "    model_statistics=MetricsSource(\n",
    "        s3_uri=automl_step.properties.BestCandidateProperties.ModelInsightsJsonReportPath,\n",
    "        content_type='application/json',\n",
    "    ),\n",
    "    explainability=MetricsSource(\n",
    "        s3_uri=automl_step.properties.BestCandidateProperties.ExplainabilityJsonReportPath,\n",
    "        content_type='application/json',\n",
    "    ),\n",
    ")\n",
    "\n",
    "model_register_step_args = best_automl_model.register(\n",
    "    content_types=['text/csv'],\n",
    "    response_types=['text/csv'],\n",
    "    inference_instances=[pipeline_automl_instance_type],\n",
    "    transform_instances=[pipeline_automl_instance_type],\n",
    "    model_package_group_name=pipeline_model_package_group_name,\n",
    "    approval_status=pipeline_model_approval_status,\n",
    "    model_metrics=model_metrics,\n",
    ")\n",
    "\n",
    "model_register_step = ModelStep(\n",
    "    name='ModelRegistrationStep', \n",
    "    step_args=model_register_step_args,\n",
    ")"
   ]
  },
  {
   "cell_type": "markdown",
   "id": "d5608c27-cf75-4adb-9b5a-bd0e3bf900d0",
   "metadata": {},
   "source": [
    "### Define conditional step"
   ]
  },
  {
   "cell_type": "code",
   "execution_count": 17,
   "id": "5ff65498-d148-491a-ab08-f35c0681d352",
   "metadata": {},
   "outputs": [],
   "source": [
    "from sagemaker.workflow.conditions import ConditionGreaterThanOrEqualTo\n",
    "from sagemaker.workflow.condition_step import ConditionStep\n",
    "from sagemaker.workflow.functions import JsonGet\n",
    "\n",
    "conditional_registration_step = ConditionStep(\n",
    "    name='ModelConditionalRegistrationStep',\n",
    "    conditions=[\n",
    "        ConditionGreaterThanOrEqualTo(\n",
    "            left=JsonGet(\n",
    "                step_name=eval_step.name,\n",
    "                property_file=evaluation_report,\n",
    "                json_path='classification_metrics.f1_score.value',\n",
    "            ),\n",
    "            right=pipeline_model_metric_threshold,\n",
    "        )\n",
    "    ],\n",
    "    if_steps=[model_register_step],\n",
    "    else_steps=[],\n",
    ")"
   ]
  },
  {
   "cell_type": "markdown",
   "id": "8bc61530-01fd-4bad-a9db-388725093341",
   "metadata": {},
   "source": [
    "## SageMaker Pipeline\n",
    "---\n",
    "Once we have completed defining all the steps, we define the **Pipeline** object to call all the steps we have.\n",
    "\n",
    "SageMaker pipeline is a series of interconnected steps that are defined using **pipelines SDK**. This pipeline definition encodes a pipeline using a *directed acyclic graph (DAG)* that can be exported as a JSON file. This DAG gives information on the requirements for and relationships between each step of the pipeline.\n"
   ]
  },
  {
   "cell_type": "code",
   "execution_count": 18,
   "id": "b90c6296-b2bb-4068-a26c-460939f59aae",
   "metadata": {
    "tags": []
   },
   "outputs": [],
   "source": [
    "from sagemaker.workflow.pipeline_definition_config import PipelineDefinitionConfig\n",
    "from sagemaker.workflow.pipeline import Pipeline\n",
    "\n",
    "nhanes_mlops_pipeline = Pipeline(\n",
    "    name='nhanes-pipelines-automl',\n",
    "    parameters=[\n",
    "        pipeline_automl_instance_type,\n",
    "        pipeline_instance_count,\n",
    "        pipeline_max_automl_runtime,\n",
    "        pipeline_model_approval_status,\n",
    "        pipeline_target_column_name,\n",
    "        pipeline_model_metric_threshold,\n",
    "        pipeline_model_package_group_name,\n",
    "    ],\n",
    "    steps=[\n",
    "        data_processing_step,\n",
    "        automl_step,\n",
    "        create_best_model_step,\n",
    "        batch_transform_step,\n",
    "        eval_step,\n",
    "        conditional_registration_step,\n",
    "    ],\n",
    "    sagemaker_session=pipeline_session,\n",
    "    pipeline_definition_config=PipelineDefinitionConfig(use_custom_job_prefix=False),\n",
    ")"
   ]
  },
  {
   "cell_type": "markdown",
   "id": "4fa1229d-0d5d-44a2-afc4-c3e225e26670",
   "metadata": {},
   "source": [
    "You can check the step by calling `definition()` method from **Pipeline** class"
   ]
  },
  {
   "cell_type": "code",
   "execution_count": 19,
   "id": "c33cecf2-864d-49b7-af4b-cfe40e831d21",
   "metadata": {
    "tags": []
   },
   "outputs": [
    {
     "name": "stderr",
     "output_type": "stream",
     "text": [
      "WARNING:sagemaker.workflow.utilities:Popping out 'ProcessingJobName' from the pipeline definition by default since it will be overridden at pipeline execution time. Please utilize the PipelineDefinitionConfig to persist this field in the pipeline definition if desired.\n",
      "WARNING:sagemaker.workflow.utilities:Popping out 'AutoMLJobName' from the pipeline definition by default since it will be overridden at pipeline execution time. Please utilize the PipelineDefinitionConfig to persist this field in the pipeline definition if desired.\n",
      "WARNING:sagemaker.workflow.utilities:Popping out 'ModelName' from the pipeline definition by default since it will be overridden at pipeline execution time. Please utilize the PipelineDefinitionConfig to persist this field in the pipeline definition if desired.\n",
      "WARNING:sagemaker.workflow.utilities:Popping out 'TransformJobName' from the pipeline definition by default since it will be overridden at pipeline execution time. Please utilize the PipelineDefinitionConfig to persist this field in the pipeline definition if desired.\n",
      "WARNING:sagemaker.workflow.utilities:Popping out 'ProcessingJobName' from the pipeline definition by default since it will be overridden at pipeline execution time. Please utilize the PipelineDefinitionConfig to persist this field in the pipeline definition if desired.\n",
      "WARNING:sagemaker.workflow._utils:Popping out 'CertifyForMarketplace' from the pipeline definition since it will be overridden in pipeline execution time.\n",
      "WARNING:sagemaker.workflow.utilities:Popping out 'ModelPackageName' from the pipeline definition by default since it will be overridden at pipeline execution time. Please utilize the PipelineDefinitionConfig to persist this field in the pipeline definition if desired.\n"
     ]
    },
    {
     "data": {
      "text/plain": [
       "{'Version': '2020-12-01',\n",
       " 'Metadata': {},\n",
       " 'Parameters': [{'Name': 'AutoMLInstanceType',\n",
       "   'Type': 'String',\n",
       "   'DefaultValue': 'ml.c5.xlarge'},\n",
       "  {'Name': 'InstanceCount', 'Type': 'Integer', 'DefaultValue': 1},\n",
       "  {'Name': 'MaxAutoMLRuntime', 'Type': 'Integer', 'DefaultValue': 3600},\n",
       "  {'Name': 'ModelApprovalStatus',\n",
       "   'Type': 'String',\n",
       "   'DefaultValue': 'Approved'},\n",
       "  {'Name': 'TargetColumnName', 'Type': 'String', 'DefaultValue': 'age_group'},\n",
       "  {'Name': 'ModelRegistrationMetricThreshold',\n",
       "   'Type': 'Float',\n",
       "   'DefaultValue': 0.8},\n",
       "  {'Name': 'ModelPackageName',\n",
       "   'Type': 'String',\n",
       "   'DefaultValue': 'AutoMLForNHANESdataset'}],\n",
       " 'PipelineExperimentConfig': {'ExperimentName': {'Get': 'Execution.PipelineName'},\n",
       "  'TrialName': {'Get': 'Execution.PipelineExecutionId'}},\n",
       " 'Steps': [{'Name': 'DataProcessingStep',\n",
       "   'Type': 'Processing',\n",
       "   'Arguments': {'ProcessingResources': {'ClusterConfig': {'InstanceType': 'ml.m5.xlarge',\n",
       "      'InstanceCount': {'Get': 'Parameters.InstanceCount'},\n",
       "      'VolumeSizeInGB': 30}},\n",
       "    'AppSpecification': {'ImageUri': '246618743249.dkr.ecr.us-west-2.amazonaws.com/sagemaker-scikit-learn:1.0-1-cpu-py3',\n",
       "     'ContainerArguments': ['--random-state', '515'],\n",
       "     'ContainerEntrypoint': ['python3',\n",
       "      '/opt/ml/processing/input/code/data-processing.py']},\n",
       "    'RoleArn': 'arn:aws:iam::587892818306:role/service-role/AmazonSageMaker-ExecutionRole-20230122T181637',\n",
       "    'ProcessingInputs': [{'InputName': 'input-1',\n",
       "      'AppManaged': False,\n",
       "      'S3Input': {'S3Uri': 's3://ml-ai-demo-th/mlops/nhanes-dataset/dataset.csv',\n",
       "       'LocalPath': '/opt/ml/processing/input',\n",
       "       'S3DataType': 'S3Prefix',\n",
       "       'S3InputMode': 'File',\n",
       "       'S3DataDistributionType': 'FullyReplicated',\n",
       "       'S3CompressionType': 'None'}},\n",
       "     {'InputName': 'code',\n",
       "      'AppManaged': False,\n",
       "      'S3Input': {'S3Uri': 's3://sagemaker-us-west-2-587892818306/DataProcessingStep-5367a2aba5152911ae7a226fd9c42b07/input/code/data-processing.py',\n",
       "       'LocalPath': '/opt/ml/processing/input/code',\n",
       "       'S3DataType': 'S3Prefix',\n",
       "       'S3InputMode': 'File',\n",
       "       'S3DataDistributionType': 'FullyReplicated',\n",
       "       'S3CompressionType': 'None'}}],\n",
       "    'ProcessingOutputConfig': {'Outputs': [{'OutputName': 'train-dataset',\n",
       "       'AppManaged': False,\n",
       "       'S3Output': {'S3Uri': 's3://ml-ai-demo-th/mlops/nhanes-train-dataset/',\n",
       "        'LocalPath': '/opt/ml/processing/train',\n",
       "        'S3UploadMode': 'EndOfJob'}},\n",
       "      {'OutputName': 'validation-dataset',\n",
       "       'AppManaged': False,\n",
       "       'S3Output': {'S3Uri': 's3://ml-ai-demo-th/mlops/nhanes-validation-dataset/',\n",
       "        'LocalPath': '/opt/ml/processing/validation',\n",
       "        'S3UploadMode': 'EndOfJob'}},\n",
       "      {'OutputName': 'test-dataset',\n",
       "       'AppManaged': False,\n",
       "       'S3Output': {'S3Uri': 's3://ml-ai-demo-th/mlops/nhanes-test-dataset/',\n",
       "        'LocalPath': '/opt/ml/processing/test',\n",
       "        'S3UploadMode': 'EndOfJob'}},\n",
       "      {'OutputName': 'test-features-only',\n",
       "       'AppManaged': False,\n",
       "       'S3Output': {'S3Uri': 's3://ml-ai-demo-th/mlops/nhanes-test-features-only/',\n",
       "        'LocalPath': '/opt/ml/processing/x_test',\n",
       "        'S3UploadMode': 'EndOfJob'}},\n",
       "      {'OutputName': 'test-label-only',\n",
       "       'AppManaged': False,\n",
       "       'S3Output': {'S3Uri': 's3://ml-ai-demo-th/mlops/nhanes-test-label-only/',\n",
       "        'LocalPath': '/opt/ml/processing/y_true',\n",
       "        'S3UploadMode': 'EndOfJob'}},\n",
       "      {'OutputName': 'features-specification',\n",
       "       'AppManaged': False,\n",
       "       'S3Output': {'S3Uri': 's3://ml-ai-demo-th/mlops/nhanes-features-to-use/',\n",
       "        'LocalPath': '/opt/ml/processing/feature-spec',\n",
       "        'S3UploadMode': 'EndOfJob'}}]}}},\n",
       "  {'Name': 'AutoMLTrainingStep',\n",
       "   'Type': 'AutoML',\n",
       "   'Arguments': {'InputDataConfig': [{'DataSource': {'S3DataSource': {'S3DataType': 'S3Prefix',\n",
       "        'S3Uri': {'Get': \"Steps.DataProcessingStep.ProcessingOutputConfig.Outputs['train-dataset'].S3Output.S3Uri\"}}},\n",
       "      'TargetAttributeName': {'Get': 'Parameters.TargetColumnName'},\n",
       "      'ChannelType': 'training'},\n",
       "     {'DataSource': {'S3DataSource': {'S3DataType': 'S3Prefix',\n",
       "        'S3Uri': {'Get': \"Steps.DataProcessingStep.ProcessingOutputConfig.Outputs['validation-dataset'].S3Output.S3Uri\"}}},\n",
       "      'TargetAttributeName': {'Get': 'Parameters.TargetColumnName'},\n",
       "      'ChannelType': 'validation'}],\n",
       "    'OutputDataConfig': {'S3OutputPath': 's3://ml-ai-demo-th/mlops/nhanes-automl-model/'},\n",
       "    'AutoMLJobConfig': {'CompletionCriteria': {'MaxAutoMLJobRuntimeInSeconds': {'Get': 'Parameters.MaxAutoMLRuntime'}},\n",
       "     'SecurityConfig': {'EnableInterContainerTrafficEncryption': False},\n",
       "     'CandidateGenerationConfig': {'FeatureSpecificationS3Uri': 's3://ml-ai-demo-th/mlops/nhanes-features-to-use/feature-specification.json'},\n",
       "     'Mode': 'ENSEMBLING'},\n",
       "    'RoleArn': 'arn:aws:iam::587892818306:role/service-role/AmazonSageMaker-ExecutionRole-20230122T181637',\n",
       "    'AutoMLJobObjective': {'MetricName': 'F1'},\n",
       "    'ProblemType': 'BinaryClassification'}},\n",
       "  {'Name': 'CreateBestAutoMLStep-CreateModel',\n",
       "   'Type': 'Model',\n",
       "   'Arguments': {'ExecutionRoleArn': 'arn:aws:iam::587892818306:role/service-role/AmazonSageMaker-ExecutionRole-20230122T181637',\n",
       "    'PrimaryContainer': {'Image': {'Get': 'Steps.AutoMLTrainingStep.BestCandidate.InferenceContainers[0].Image'},\n",
       "     'Environment': {'MODEL_NAME': {'Get': \"Steps.AutoMLTrainingStep.BestCandidate.InferenceContainers[0].Environment['MODEL_NAME']\"},\n",
       "      'SAGEMAKER_DEFAULT_INVOCATIONS_ACCEPT': {'Get': \"Steps.AutoMLTrainingStep.BestCandidate.InferenceContainers[0].Environment['SAGEMAKER_DEFAULT_INVOCATIONS_ACCEPT']\"},\n",
       "      'SAGEMAKER_SUBMIT_DIRECTORY': {'Get': \"Steps.AutoMLTrainingStep.BestCandidate.InferenceContainers[0].Environment['SAGEMAKER_SUBMIT_DIRECTORY']\"},\n",
       "      'SAGEMAKER_INFERENCE_SUPPORTED': {'Get': \"Steps.AutoMLTrainingStep.BestCandidate.InferenceContainers[0].Environment['SAGEMAKER_INFERENCE_SUPPORTED']\"},\n",
       "      'SAGEMAKER_INFERENCE_OUTPUT': {'Get': \"Steps.AutoMLTrainingStep.BestCandidate.InferenceContainers[0].Environment['SAGEMAKER_INFERENCE_OUTPUT']\"},\n",
       "      'SAGEMAKER_PROGRAM': {'Get': \"Steps.AutoMLTrainingStep.BestCandidate.InferenceContainers[0].Environment['SAGEMAKER_PROGRAM']\"}},\n",
       "     'ModelDataUrl': {'Get': 'Steps.AutoMLTrainingStep.BestCandidate.InferenceContainers[0].ModelDataUrl'}}}},\n",
       "  {'Name': 'BatchTransformStep',\n",
       "   'Type': 'Transform',\n",
       "   'Arguments': {'ModelName': {'Get': 'Steps.CreateBestAutoMLStep-CreateModel.ModelName'},\n",
       "    'TransformInput': {'DataSource': {'S3DataSource': {'S3DataType': 'S3Prefix',\n",
       "       'S3Uri': {'Get': \"Steps.DataProcessingStep.ProcessingOutputConfig.Outputs['test-features-only'].S3Output.S3Uri\"}}},\n",
       "     'ContentType': 'text/csv'},\n",
       "    'TransformOutput': {'S3OutputPath': {'Std:Join': {'On': '/',\n",
       "       'Values': ['s3:/',\n",
       "        'ml-ai-demo-th',\n",
       "        'mlops',\n",
       "        'nhanes-output',\n",
       "        'batch-transform']}}},\n",
       "    'TransformResources': {'InstanceCount': {'Get': 'Parameters.InstanceCount'},\n",
       "     'InstanceType': {'Get': 'Parameters.AutoMLInstanceType'}}}},\n",
       "  {'Name': 'ModelEvaluationStep',\n",
       "   'Type': 'Processing',\n",
       "   'Arguments': {'ProcessingResources': {'ClusterConfig': {'InstanceType': 'ml.m5.xlarge',\n",
       "      'InstanceCount': {'Get': 'Parameters.InstanceCount'},\n",
       "      'VolumeSizeInGB': 30}},\n",
       "    'AppSpecification': {'ImageUri': '246618743249.dkr.ecr.us-west-2.amazonaws.com/sagemaker-scikit-learn:1.0-1-cpu-py3',\n",
       "     'ContainerEntrypoint': ['python3',\n",
       "      '/opt/ml/processing/input/code/model-evaluation.py']},\n",
       "    'RoleArn': 'arn:aws:iam::587892818306:role/service-role/AmazonSageMaker-ExecutionRole-20230122T181637',\n",
       "    'ProcessingInputs': [{'InputName': 'input-1',\n",
       "      'AppManaged': False,\n",
       "      'S3Input': {'S3Uri': {'Get': 'Steps.BatchTransformStep.TransformOutput.S3OutputPath'},\n",
       "       'LocalPath': '/opt/ml/processing/input/predictions',\n",
       "       'S3DataType': 'S3Prefix',\n",
       "       'S3InputMode': 'File',\n",
       "       'S3DataDistributionType': 'FullyReplicated',\n",
       "       'S3CompressionType': 'None'}},\n",
       "     {'InputName': 'input-2',\n",
       "      'AppManaged': False,\n",
       "      'S3Input': {'S3Uri': {'Get': \"Steps.DataProcessingStep.ProcessingOutputConfig.Outputs['test-label-only'].S3Output.S3Uri\"},\n",
       "       'LocalPath': '/opt/ml/processing/input/true_labels',\n",
       "       'S3DataType': 'S3Prefix',\n",
       "       'S3InputMode': 'File',\n",
       "       'S3DataDistributionType': 'FullyReplicated',\n",
       "       'S3CompressionType': 'None'}},\n",
       "     {'InputName': 'code',\n",
       "      'AppManaged': False,\n",
       "      'S3Input': {'S3Uri': 's3://sagemaker-us-west-2-587892818306/nhanes-pipelines-automl/code/59e52a190c1d4cdbd984838de0dea727/model-evaluation.py',\n",
       "       'LocalPath': '/opt/ml/processing/input/code',\n",
       "       'S3DataType': 'S3Prefix',\n",
       "       'S3InputMode': 'File',\n",
       "       'S3DataDistributionType': 'FullyReplicated',\n",
       "       'S3CompressionType': 'None'}}],\n",
       "    'ProcessingOutputConfig': {'Outputs': [{'OutputName': 'model-evaluation',\n",
       "       'AppManaged': False,\n",
       "       'S3Output': {'S3Uri': 's3://ml-ai-demo-th/mlops/nhanes-output/evaluation-metrics/',\n",
       "        'LocalPath': '/opt/ml/processing/evaluation',\n",
       "        'S3UploadMode': 'EndOfJob'}}]}},\n",
       "   'PropertyFiles': [{'PropertyFileName': 'evaluation-file',\n",
       "     'OutputName': 'model-evaluation',\n",
       "     'FilePath': 'evaluation_metrics.json'}]},\n",
       "  {'Name': 'ModelConditionalRegistrationStep',\n",
       "   'Type': 'Condition',\n",
       "   'Arguments': {'Conditions': [{'Type': 'GreaterThanOrEqualTo',\n",
       "      'LeftValue': {'Std:JsonGet': {'PropertyFile': {'Get': 'Steps.ModelEvaluationStep.PropertyFiles.evaluation-file'},\n",
       "        'Path': 'classification_metrics.f1_score.value'}},\n",
       "      'RightValue': {'Get': 'Parameters.ModelRegistrationMetricThreshold'}}],\n",
       "    'IfSteps': [{'Name': 'ModelRegistrationStep-RegisterModel',\n",
       "      'Type': 'RegisterModel',\n",
       "      'Arguments': {'ModelPackageGroupName': {'Get': 'Parameters.ModelPackageName'},\n",
       "       'ModelMetrics': {'ModelQuality': {'Statistics': {'ContentType': 'application/json',\n",
       "          'S3Uri': {'Get': 'Steps.AutoMLTrainingStep.BestCandidateProperties.ModelInsightsJsonReportPath'}}},\n",
       "        'Bias': {},\n",
       "        'Explainability': {'Report': {'ContentType': 'application/json',\n",
       "          'S3Uri': {'Get': 'Steps.AutoMLTrainingStep.BestCandidateProperties.ExplainabilityJsonReportPath'}}}},\n",
       "       'InferenceSpecification': {'Containers': [{'Image': {'Get': 'Steps.AutoMLTrainingStep.BestCandidate.InferenceContainers[0].Image'},\n",
       "          'Environment': {'MODEL_NAME': {'Get': \"Steps.AutoMLTrainingStep.BestCandidate.InferenceContainers[0].Environment['MODEL_NAME']\"},\n",
       "           'SAGEMAKER_DEFAULT_INVOCATIONS_ACCEPT': {'Get': \"Steps.AutoMLTrainingStep.BestCandidate.InferenceContainers[0].Environment['SAGEMAKER_DEFAULT_INVOCATIONS_ACCEPT']\"},\n",
       "           'SAGEMAKER_SUBMIT_DIRECTORY': {'Get': \"Steps.AutoMLTrainingStep.BestCandidate.InferenceContainers[0].Environment['SAGEMAKER_SUBMIT_DIRECTORY']\"},\n",
       "           'SAGEMAKER_INFERENCE_SUPPORTED': {'Get': \"Steps.AutoMLTrainingStep.BestCandidate.InferenceContainers[0].Environment['SAGEMAKER_INFERENCE_SUPPORTED']\"},\n",
       "           'SAGEMAKER_INFERENCE_OUTPUT': {'Get': \"Steps.AutoMLTrainingStep.BestCandidate.InferenceContainers[0].Environment['SAGEMAKER_INFERENCE_OUTPUT']\"},\n",
       "           'SAGEMAKER_PROGRAM': {'Get': \"Steps.AutoMLTrainingStep.BestCandidate.InferenceContainers[0].Environment['SAGEMAKER_PROGRAM']\"}},\n",
       "          'ModelDataUrl': {'Get': 'Steps.AutoMLTrainingStep.BestCandidate.InferenceContainers[0].ModelDataUrl'}}],\n",
       "        'SupportedContentTypes': ['text/csv'],\n",
       "        'SupportedResponseMIMETypes': ['text/csv'],\n",
       "        'SupportedRealtimeInferenceInstanceTypes': [{'Get': 'Parameters.AutoMLInstanceType'}],\n",
       "        'SupportedTransformInstanceTypes': [{'Get': 'Parameters.AutoMLInstanceType'}]},\n",
       "       'ModelApprovalStatus': {'Get': 'Parameters.ModelApprovalStatus'},\n",
       "       'SkipModelValidation': 'None'}}],\n",
       "    'ElseSteps': []}}]}"
      ]
     },
     "execution_count": 19,
     "metadata": {},
     "output_type": "execute_result"
    }
   ],
   "source": [
    "json.loads(nhanes_mlops_pipeline.definition())"
   ]
  },
  {
   "cell_type": "markdown",
   "id": "d0e5cb43-6891-4b07-a9de-c6f8faa2bb72",
   "metadata": {},
   "source": [
    "### Create or update the pipeline"
   ]
  },
  {
   "cell_type": "code",
   "execution_count": 20,
   "id": "7f9d48f7-2437-42e8-9c16-f989ce6e94bb",
   "metadata": {
    "tags": []
   },
   "outputs": [
    {
     "name": "stderr",
     "output_type": "stream",
     "text": [
      "WARNING:sagemaker.workflow.utilities:Popping out 'ProcessingJobName' from the pipeline definition by default since it will be overridden at pipeline execution time. Please utilize the PipelineDefinitionConfig to persist this field in the pipeline definition if desired.\n",
      "WARNING:sagemaker.workflow.utilities:Popping out 'AutoMLJobName' from the pipeline definition by default since it will be overridden at pipeline execution time. Please utilize the PipelineDefinitionConfig to persist this field in the pipeline definition if desired.\n",
      "WARNING:sagemaker.workflow.utilities:Popping out 'ModelName' from the pipeline definition by default since it will be overridden at pipeline execution time. Please utilize the PipelineDefinitionConfig to persist this field in the pipeline definition if desired.\n",
      "WARNING:sagemaker.workflow.utilities:Popping out 'TransformJobName' from the pipeline definition by default since it will be overridden at pipeline execution time. Please utilize the PipelineDefinitionConfig to persist this field in the pipeline definition if desired.\n",
      "WARNING:sagemaker.workflow.utilities:Popping out 'ProcessingJobName' from the pipeline definition by default since it will be overridden at pipeline execution time. Please utilize the PipelineDefinitionConfig to persist this field in the pipeline definition if desired.\n",
      "WARNING:sagemaker.workflow.utilities:Popping out 'ModelPackageName' from the pipeline definition by default since it will be overridden at pipeline execution time. Please utilize the PipelineDefinitionConfig to persist this field in the pipeline definition if desired.\n",
      "WARNING:sagemaker.workflow.utilities:Popping out 'ProcessingJobName' from the pipeline definition by default since it will be overridden at pipeline execution time. Please utilize the PipelineDefinitionConfig to persist this field in the pipeline definition if desired.\n",
      "WARNING:sagemaker.workflow.utilities:Popping out 'AutoMLJobName' from the pipeline definition by default since it will be overridden at pipeline execution time. Please utilize the PipelineDefinitionConfig to persist this field in the pipeline definition if desired.\n",
      "WARNING:sagemaker.workflow.utilities:Popping out 'ModelName' from the pipeline definition by default since it will be overridden at pipeline execution time. Please utilize the PipelineDefinitionConfig to persist this field in the pipeline definition if desired.\n",
      "WARNING:sagemaker.workflow.utilities:Popping out 'TransformJobName' from the pipeline definition by default since it will be overridden at pipeline execution time. Please utilize the PipelineDefinitionConfig to persist this field in the pipeline definition if desired.\n",
      "WARNING:sagemaker.workflow.utilities:Popping out 'ProcessingJobName' from the pipeline definition by default since it will be overridden at pipeline execution time. Please utilize the PipelineDefinitionConfig to persist this field in the pipeline definition if desired.\n",
      "WARNING:sagemaker.workflow.utilities:Popping out 'ModelPackageName' from the pipeline definition by default since it will be overridden at pipeline execution time. Please utilize the PipelineDefinitionConfig to persist this field in the pipeline definition if desired.\n"
     ]
    },
    {
     "data": {
      "text/plain": [
       "{'PipelineArn': 'arn:aws:sagemaker:us-west-2:587892818306:pipeline/nhanes-pipelines-automl',\n",
       " 'ResponseMetadata': {'RequestId': 'e8441b02-e885-442d-ac58-0b845fc6f1f0',\n",
       "  'HTTPStatusCode': 200,\n",
       "  'HTTPHeaders': {'x-amzn-requestid': 'e8441b02-e885-442d-ac58-0b845fc6f1f0',\n",
       "   'content-type': 'application/x-amz-json-1.1',\n",
       "   'content-length': '91',\n",
       "   'date': 'Sat, 06 Jan 2024 14:03:22 GMT'},\n",
       "  'RetryAttempts': 0}}"
      ]
     },
     "execution_count": 20,
     "metadata": {},
     "output_type": "execute_result"
    }
   ],
   "source": [
    "nhanes_mlops_pipeline.upsert(role_arn=role_arn)"
   ]
  },
  {
   "cell_type": "markdown",
   "id": "1e62bbd2-6e05-4826-8dae-3965949220de",
   "metadata": {},
   "source": [
    "### Execute the pipeline"
   ]
  },
  {
   "cell_type": "code",
   "execution_count": 21,
   "id": "7d94ad2b-3cd1-4c01-a263-d4b989ab9190",
   "metadata": {
    "tags": []
   },
   "outputs": [],
   "source": [
    "import datetime\n",
    "from sagemaker.workflow.selective_execution_config import SelectiveExecutionConfig\n",
    "\n",
    "ml_pipeline_execution = nhanes_mlops_pipeline.start(\n",
    "    execution_display_name='nhanes-execution-{}'.format(datetime.datetime.now().strftime('%Y%m%d-%H%M%S')),\n",
    ")"
   ]
  },
  {
   "cell_type": "markdown",
   "id": "16791ee1-3579-4cc4-89d3-e8e1ea0cb3bf",
   "metadata": {},
   "source": [
    "When we run above command, the pipeline will start to execute and you will be able to continue to work on the same notebook. I have added the `wait()` here for the pipeline to finish its executions."
   ]
  },
  {
   "cell_type": "code",
   "execution_count": 22,
   "id": "c88016cc-ef3d-4fba-a5a1-5d52852ef457",
   "metadata": {
    "tags": []
   },
   "outputs": [
    {
     "data": {
      "text/plain": [
       "[{'StepName': 'ModelRegistrationStep-RegisterModel',\n",
       "  'StartTime': datetime.datetime(2024, 1, 6, 14, 26, 58, 376000, tzinfo=tzlocal()),\n",
       "  'EndTime': datetime.datetime(2024, 1, 6, 14, 26, 59, 414000, tzinfo=tzlocal()),\n",
       "  'StepStatus': 'Succeeded',\n",
       "  'Metadata': {'RegisterModel': {'Arn': 'arn:aws:sagemaker:us-west-2:587892818306:model-package/AutoMLForNHANESdataset/2'}},\n",
       "  'AttemptCount': 1},\n",
       " {'StepName': 'ModelConditionalRegistrationStep',\n",
       "  'StartTime': datetime.datetime(2024, 1, 6, 14, 26, 57, 120000, tzinfo=tzlocal()),\n",
       "  'EndTime': datetime.datetime(2024, 1, 6, 14, 26, 57, 586000, tzinfo=tzlocal()),\n",
       "  'StepStatus': 'Succeeded',\n",
       "  'Metadata': {'Condition': {'Outcome': 'True'}},\n",
       "  'AttemptCount': 1},\n",
       " {'StepName': 'ModelEvaluationStep',\n",
       "  'StartTime': datetime.datetime(2024, 1, 6, 14, 22, 26, 198000, tzinfo=tzlocal()),\n",
       "  'EndTime': datetime.datetime(2024, 1, 6, 14, 26, 56, 539000, tzinfo=tzlocal()),\n",
       "  'StepStatus': 'Succeeded',\n",
       "  'Metadata': {'ProcessingJob': {'Arn': 'arn:aws:sagemaker:us-west-2:587892818306:processing-job/pipelines-tojt3glonlal-ModelEvaluationStep-gu4GVqQpWL'}},\n",
       "  'AttemptCount': 1},\n",
       " {'StepName': 'BatchTransformStep',\n",
       "  'StartTime': datetime.datetime(2024, 1, 6, 14, 17, 40, 628000, tzinfo=tzlocal()),\n",
       "  'EndTime': datetime.datetime(2024, 1, 6, 14, 22, 25, 697000, tzinfo=tzlocal()),\n",
       "  'StepStatus': 'Succeeded',\n",
       "  'Metadata': {'TransformJob': {'Arn': 'arn:aws:sagemaker:us-west-2:587892818306:transform-job/pipelines-tojt3glonlal-BatchTransformStep-VJPxcO9pth'}},\n",
       "  'AttemptCount': 1},\n",
       " {'StepName': 'CreateBestAutoMLStep-CreateModel',\n",
       "  'StartTime': datetime.datetime(2024, 1, 6, 14, 17, 38, 626000, tzinfo=tzlocal()),\n",
       "  'EndTime': datetime.datetime(2024, 1, 6, 14, 17, 40, 91000, tzinfo=tzlocal()),\n",
       "  'StepStatus': 'Succeeded',\n",
       "  'Metadata': {'Model': {'Arn': 'arn:aws:sagemaker:us-west-2:587892818306:model/pipelines-tojt3glonlal-createbestautomlstep-1dsbbwx8ae'}},\n",
       "  'AttemptCount': 1},\n",
       " {'StepName': 'AutoMLTrainingStep',\n",
       "  'StartTime': datetime.datetime(2024, 1, 6, 14, 7, 43, 697000, tzinfo=tzlocal()),\n",
       "  'EndTime': datetime.datetime(2024, 1, 6, 14, 17, 37, 562000, tzinfo=tzlocal()),\n",
       "  'StepStatus': 'Succeeded',\n",
       "  'Metadata': {'AutoMLJob': {'Arn': 'arn:aws:sagemaker:us-west-2:587892818306:automl-job/tojt3glonlal-AutoMLTr-4mjMUlPsZF'}},\n",
       "  'AttemptCount': 1},\n",
       " {'StepName': 'DataProcessingStep',\n",
       "  'StartTime': datetime.datetime(2024, 1, 6, 14, 3, 24, 506000, tzinfo=tzlocal()),\n",
       "  'EndTime': datetime.datetime(2024, 1, 6, 14, 7, 43, 7000, tzinfo=tzlocal()),\n",
       "  'StepStatus': 'Succeeded',\n",
       "  'Metadata': {'ProcessingJob': {'Arn': 'arn:aws:sagemaker:us-west-2:587892818306:processing-job/pipelines-tojt3glonlal-DataProcessingStep-j1GN1mCIAw'}},\n",
       "  'AttemptCount': 1}]"
      ]
     },
     "execution_count": 22,
     "metadata": {},
     "output_type": "execute_result"
    }
   ],
   "source": [
    "ml_pipeline_execution.wait(delay=30, max_attempts=120) \n",
    "ml_pipeline_execution.list_steps()"
   ]
  },
  {
   "cell_type": "markdown",
   "id": "8441fe65-099d-4463-96b1-5dae1b586114",
   "metadata": {},
   "source": [
    "## Model deployment\n",
    "---\n",
    "\n",
    "In the previous section, I have created and executed the pipeline to create, and register the ML model. In this section, I will create model endpoint using the model configuration of the latest approved ML model saved within **SageMaker model registry** model package group.\n",
    "\n",
    "This is for <u>demonstration purpose</u>, you may implement automatically the endpoint deployment or other CI/CD approach based on your business objective for production environment. \n"
   ]
  },
  {
   "cell_type": "code",
   "execution_count": 23,
   "id": "14d4676d-a48f-43ba-bf15-cda1051fb4f7",
   "metadata": {
    "tags": []
   },
   "outputs": [
    {
     "data": {
      "text/plain": [
       "{'ModelPackageGroupName': 'AutoMLForNHANESdataset',\n",
       " 'ModelPackageVersion': 2,\n",
       " 'ModelPackageArn': 'arn:aws:sagemaker:us-west-2:587892818306:model-package/AutoMLForNHANESdataset/2',\n",
       " 'CreationTime': datetime.datetime(2024, 1, 6, 14, 26, 59, 311000, tzinfo=tzlocal()),\n",
       " 'InferenceSpecification': {'Containers': [{'Image': '763104351884.dkr.ecr.us-west-2.amazonaws.com/autogluon-inference:0.4.3-cpu-py38-ubuntu20.04',\n",
       "    'ImageDigest': 'sha256:f461d5f846f9e2f30db9ee57ff6fa6c8ba2263f8cf343f031e1c178a6b6af864',\n",
       "    'ModelDataUrl': 's3://ml-ai-demo-th/mlops/nhanes-automl-model/tojt3glonlal-AutoMLTr-4mjMUlPsZF/sagemaker-automl-candidates/model/LightGBM-BAG-L1-FULL-t1/model.tar.gz',\n",
       "    'Environment': {'MODEL_NAME': 'LightGBM-BAG-L1-FULL',\n",
       "     'SAGEMAKER_DEFAULT_INVOCATIONS_ACCEPT': 'text/csv',\n",
       "     'SAGEMAKER_INFERENCE_OUTPUT': 'predicted_label',\n",
       "     'SAGEMAKER_INFERENCE_SUPPORTED': 'predicted_label,probability,probabilities,labels',\n",
       "     'SAGEMAKER_PROGRAM': 'tabular_serve.py',\n",
       "     'SAGEMAKER_SUBMIT_DIRECTORY': '/opt/ml/model/code'}}],\n",
       "  'SupportedTransformInstanceTypes': ['ml.c5.xlarge'],\n",
       "  'SupportedRealtimeInferenceInstanceTypes': ['ml.c5.xlarge'],\n",
       "  'SupportedContentTypes': ['text/csv'],\n",
       "  'SupportedResponseMIMETypes': ['text/csv']},\n",
       " 'ModelPackageStatus': 'Completed',\n",
       " 'ModelPackageStatusDetails': {'ValidationStatuses': [],\n",
       "  'ImageScanStatuses': []},\n",
       " 'CertifyForMarketplace': False,\n",
       " 'ModelApprovalStatus': 'Approved',\n",
       " 'CreatedBy': {'IamIdentity': {'Arn': 'arn:aws:sts::587892818306:assumed-role/AmazonSageMaker-ExecutionRole-20230122T181637/sagemaker-pipeline-tojt3glonlal-ModelRegistrationSte',\n",
       "   'PrincipalId': 'AROAYRYJEQGBEZ4B2OPRF:sagemaker-pipeline-tojt3glonlal-ModelRegistrationSte'}},\n",
       " 'MetadataProperties': {'GeneratedBy': 'arn:aws:sagemaker:us-west-2:587892818306:pipeline/nhanes-pipelines-automl/execution/tojt3glonlal'},\n",
       " 'ModelMetrics': {'ModelQuality': {'Statistics': {'ContentType': 'application/json',\n",
       "    'S3Uri': 's3://ml-ai-demo-th/mlops/nhanes-automl-model/tojt3glonlal-AutoMLTr-4mjMUlPsZF/documentation/model_monitor/output/LightGBM-BAG-L1-F-t1587892818306tojt3glonlal-AutoMLTr-4mjMUlPsZF/statistics.json'}},\n",
       "  'Bias': {},\n",
       "  'Explainability': {'Report': {'ContentType': 'application/json',\n",
       "    'S3Uri': 's3://ml-ai-demo-th/mlops/nhanes-automl-model/tojt3glonlal-AutoMLTr-4mjMUlPsZF/documentation/explainability/output/tojt3glonlal-AutoMLTr-4mjMUlPsZF-t1-1-3d7bc25f68384f2bbde3822b0/analysis.json'}}},\n",
       " 'SkipModelValidation': 'None',\n",
       " 'ResponseMetadata': {'RequestId': 'b419c521-9bf3-40bb-96de-9f4e8674b9ef',\n",
       "  'HTTPStatusCode': 200,\n",
       "  'HTTPHeaders': {'x-amzn-requestid': 'b419c521-9bf3-40bb-96de-9f4e8674b9ef',\n",
       "   'content-type': 'application/x-amz-json-1.1',\n",
       "   'content-length': '2282',\n",
       "   'date': 'Sat, 06 Jan 2024 14:27:29 GMT'},\n",
       "  'RetryAttempts': 0}}"
      ]
     },
     "execution_count": 23,
     "metadata": {},
     "output_type": "execute_result"
    }
   ],
   "source": [
    "model_package = sm_client.list_model_packages(\n",
    "    MaxResults=2,\n",
    "    ModelApprovalStatus=\"Approved\",\n",
    "    ModelPackageGroupName=pipeline_model_package_group_name.default_value,\n",
    "    SortBy=\"CreationTime\",\n",
    "    SortOrder=\"Descending\",\n",
    ")\n",
    "model_package_arn = model_package[\"ModelPackageSummaryList\"][0][\"ModelPackageArn\"]\n",
    "\n",
    "sm_client.describe_model_package(\n",
    "    ModelPackageName=model_package_arn,\n",
    ")\n"
   ]
  },
  {
   "cell_type": "code",
   "execution_count": 24,
   "id": "5ff40643-8e2d-4951-9d45-221c34d439db",
   "metadata": {},
   "outputs": [
    {
     "name": "stderr",
     "output_type": "stream",
     "text": [
      "INFO:sagemaker:Creating model with name: AutoMLForNHANESdataset-2024-01-06-14-27-30-090\n",
      "INFO:sagemaker:Creating endpoint-config with name AutoMLForNHANESdataset-2024-01-06-14-27-30-891\n",
      "INFO:sagemaker:Creating endpoint with name AutoMLForNHANESdataset-2024-01-06-14-27-30-891\n"
     ]
    },
    {
     "name": "stdout",
     "output_type": "stream",
     "text": [
      "----!"
     ]
    }
   ],
   "source": [
    "nhanes_model = ModelPackage(\n",
    "    role=role_arn, \n",
    "    model_package_arn=model_package_arn\n",
    ")\n",
    "\n",
    "nhanes_model.deploy(\n",
    "    initial_instance_count=pipeline_instance_count.default_value,\n",
    "    instance_type=pipeline_automl_instance_type.default_value,\n",
    ")"
   ]
  },
  {
   "cell_type": "markdown",
   "id": "0c4e1b99-c56c-440b-8611-df00762a686b",
   "metadata": {},
   "source": [
    "### Option 1: Invoke endpoint with SageMaker SDK"
   ]
  },
  {
   "cell_type": "code",
   "execution_count": 25,
   "id": "5c238bfd-a10c-4b36-b31d-4629642af0c7",
   "metadata": {
    "tags": []
   },
   "outputs": [
    {
     "name": "stdout",
     "output_type": "stream",
     "text": [
      "Adult\n",
      "Adult\n",
      "Adult\n",
      "Adult\n",
      "Adult\n",
      "Adult\n",
      "Adult\n",
      "Adult\n",
      "Senior\n",
      "Adult\n",
      "\n"
     ]
    }
   ],
   "source": [
    "from sagemaker.predictor import Predictor\n",
    "from sagemaker.serializers import CSVSerializer\n",
    "\n",
    "nhanes_predictor = Predictor(\n",
    "    endpoint_name=nhanes_model.endpoint_name,\n",
    "    sagemaker_session=pipeline_session,\n",
    "    serializer=CSVSerializer(),\n",
    ")\n",
    "print(\n",
    "    nhanes_predictor.predict(\n",
    "        df.drop(['SEQN', 'age_group'], axis=1).head(10).values\n",
    "    ).decode(\"utf-8\")\n",
    ")"
   ]
  },
  {
   "cell_type": "markdown",
   "id": "39a7b2b1-29a7-4d45-9b8e-46ab15d0fc27",
   "metadata": {},
   "source": [
    "### Option 2: Invoke endpoint using boto3 SDK\n",
    "---\n",
    "\n",
    "For the usage guide, please refer to the [document](https://boto3.amazonaws.com/v1/documentation/api/latest/reference/services/sagemaker-runtime/client/invoke_endpoint.html)."
   ]
  },
  {
   "cell_type": "code",
   "execution_count": 26,
   "id": "a8119fdd-bd3e-4064-8ae4-9c2b7c8ce56c",
   "metadata": {
    "tags": []
   },
   "outputs": [
    {
     "name": "stdout",
     "output_type": "stream",
     "text": [
      "Adult\n",
      "Adult\n",
      "Adult\n",
      "Adult\n",
      "Adult\n",
      "Adult\n",
      "Adult\n",
      "Adult\n",
      "Senior\n",
      "Adult\n",
      "\n"
     ]
    }
   ],
   "source": [
    "sm_rt_client = boto3.client('sagemaker-runtime')\n",
    "resp = sm_rt_client.invoke_endpoint(\n",
    "    EndpointName=nhanes_model.endpoint_name,\n",
    "    Body=df.drop(['SEQN', 'age_group'], axis=1).head(10).to_csv(header=False, index=False).encode('utf-8'),\n",
    "    ContentType='text/csv',\n",
    "    Accept='text/csv',\n",
    ")\n",
    "\n",
    "print(resp['Body'].read().decode('utf-8'))"
   ]
  },
  {
   "cell_type": "markdown",
   "id": "12b718db-74d2-4e93-994c-a8783ccd2943",
   "metadata": {},
   "source": [
    "## Clean up\n",
    "---\n",
    "\n",
    "If you are not using the endpoint anymore, it is recommended to delete it to prevent any recurring charge from the endpoint."
   ]
  },
  {
   "cell_type": "code",
   "execution_count": 27,
   "id": "8cda37ea-7815-42dc-ae4f-67587f3df363",
   "metadata": {
    "tags": []
   },
   "outputs": [
    {
     "data": {
      "text/plain": [
       "{'ResponseMetadata': {'RequestId': 'db895b20-cbcb-465b-903e-dac090cbacb4',\n",
       "  'HTTPStatusCode': 200,\n",
       "  'HTTPHeaders': {'x-amzn-requestid': 'db895b20-cbcb-465b-903e-dac090cbacb4',\n",
       "   'content-type': 'application/x-amz-json-1.1',\n",
       "   'content-length': '0',\n",
       "   'date': 'Sat, 06 Jan 2024 14:30:02 GMT'},\n",
       "  'RetryAttempts': 0}}"
      ]
     },
     "execution_count": 27,
     "metadata": {},
     "output_type": "execute_result"
    }
   ],
   "source": [
    "sm_client.delete_endpoint(EndpointName=nhanes_model.endpoint_name)"
   ]
  }
 ],
 "metadata": {
  "availableInstances": [
   {
    "_defaultOrder": 0,
    "_isFastLaunch": true,
    "category": "General purpose",
    "gpuNum": 0,
    "hideHardwareSpecs": false,
    "memoryGiB": 4,
    "name": "ml.t3.medium",
    "vcpuNum": 2
   },
   {
    "_defaultOrder": 1,
    "_isFastLaunch": false,
    "category": "General purpose",
    "gpuNum": 0,
    "hideHardwareSpecs": false,
    "memoryGiB": 8,
    "name": "ml.t3.large",
    "vcpuNum": 2
   },
   {
    "_defaultOrder": 2,
    "_isFastLaunch": false,
    "category": "General purpose",
    "gpuNum": 0,
    "hideHardwareSpecs": false,
    "memoryGiB": 16,
    "name": "ml.t3.xlarge",
    "vcpuNum": 4
   },
   {
    "_defaultOrder": 3,
    "_isFastLaunch": false,
    "category": "General purpose",
    "gpuNum": 0,
    "hideHardwareSpecs": false,
    "memoryGiB": 32,
    "name": "ml.t3.2xlarge",
    "vcpuNum": 8
   },
   {
    "_defaultOrder": 4,
    "_isFastLaunch": true,
    "category": "General purpose",
    "gpuNum": 0,
    "hideHardwareSpecs": false,
    "memoryGiB": 8,
    "name": "ml.m5.large",
    "vcpuNum": 2
   },
   {
    "_defaultOrder": 5,
    "_isFastLaunch": false,
    "category": "General purpose",
    "gpuNum": 0,
    "hideHardwareSpecs": false,
    "memoryGiB": 16,
    "name": "ml.m5.xlarge",
    "vcpuNum": 4
   },
   {
    "_defaultOrder": 6,
    "_isFastLaunch": false,
    "category": "General purpose",
    "gpuNum": 0,
    "hideHardwareSpecs": false,
    "memoryGiB": 32,
    "name": "ml.m5.2xlarge",
    "vcpuNum": 8
   },
   {
    "_defaultOrder": 7,
    "_isFastLaunch": false,
    "category": "General purpose",
    "gpuNum": 0,
    "hideHardwareSpecs": false,
    "memoryGiB": 64,
    "name": "ml.m5.4xlarge",
    "vcpuNum": 16
   },
   {
    "_defaultOrder": 8,
    "_isFastLaunch": false,
    "category": "General purpose",
    "gpuNum": 0,
    "hideHardwareSpecs": false,
    "memoryGiB": 128,
    "name": "ml.m5.8xlarge",
    "vcpuNum": 32
   },
   {
    "_defaultOrder": 9,
    "_isFastLaunch": false,
    "category": "General purpose",
    "gpuNum": 0,
    "hideHardwareSpecs": false,
    "memoryGiB": 192,
    "name": "ml.m5.12xlarge",
    "vcpuNum": 48
   },
   {
    "_defaultOrder": 10,
    "_isFastLaunch": false,
    "category": "General purpose",
    "gpuNum": 0,
    "hideHardwareSpecs": false,
    "memoryGiB": 256,
    "name": "ml.m5.16xlarge",
    "vcpuNum": 64
   },
   {
    "_defaultOrder": 11,
    "_isFastLaunch": false,
    "category": "General purpose",
    "gpuNum": 0,
    "hideHardwareSpecs": false,
    "memoryGiB": 384,
    "name": "ml.m5.24xlarge",
    "vcpuNum": 96
   },
   {
    "_defaultOrder": 12,
    "_isFastLaunch": false,
    "category": "General purpose",
    "gpuNum": 0,
    "hideHardwareSpecs": false,
    "memoryGiB": 8,
    "name": "ml.m5d.large",
    "vcpuNum": 2
   },
   {
    "_defaultOrder": 13,
    "_isFastLaunch": false,
    "category": "General purpose",
    "gpuNum": 0,
    "hideHardwareSpecs": false,
    "memoryGiB": 16,
    "name": "ml.m5d.xlarge",
    "vcpuNum": 4
   },
   {
    "_defaultOrder": 14,
    "_isFastLaunch": false,
    "category": "General purpose",
    "gpuNum": 0,
    "hideHardwareSpecs": false,
    "memoryGiB": 32,
    "name": "ml.m5d.2xlarge",
    "vcpuNum": 8
   },
   {
    "_defaultOrder": 15,
    "_isFastLaunch": false,
    "category": "General purpose",
    "gpuNum": 0,
    "hideHardwareSpecs": false,
    "memoryGiB": 64,
    "name": "ml.m5d.4xlarge",
    "vcpuNum": 16
   },
   {
    "_defaultOrder": 16,
    "_isFastLaunch": false,
    "category": "General purpose",
    "gpuNum": 0,
    "hideHardwareSpecs": false,
    "memoryGiB": 128,
    "name": "ml.m5d.8xlarge",
    "vcpuNum": 32
   },
   {
    "_defaultOrder": 17,
    "_isFastLaunch": false,
    "category": "General purpose",
    "gpuNum": 0,
    "hideHardwareSpecs": false,
    "memoryGiB": 192,
    "name": "ml.m5d.12xlarge",
    "vcpuNum": 48
   },
   {
    "_defaultOrder": 18,
    "_isFastLaunch": false,
    "category": "General purpose",
    "gpuNum": 0,
    "hideHardwareSpecs": false,
    "memoryGiB": 256,
    "name": "ml.m5d.16xlarge",
    "vcpuNum": 64
   },
   {
    "_defaultOrder": 19,
    "_isFastLaunch": false,
    "category": "General purpose",
    "gpuNum": 0,
    "hideHardwareSpecs": false,
    "memoryGiB": 384,
    "name": "ml.m5d.24xlarge",
    "vcpuNum": 96
   },
   {
    "_defaultOrder": 20,
    "_isFastLaunch": false,
    "category": "General purpose",
    "gpuNum": 0,
    "hideHardwareSpecs": true,
    "memoryGiB": 0,
    "name": "ml.geospatial.interactive",
    "supportedImageNames": [
     "sagemaker-geospatial-v1-0"
    ],
    "vcpuNum": 0
   },
   {
    "_defaultOrder": 21,
    "_isFastLaunch": true,
    "category": "Compute optimized",
    "gpuNum": 0,
    "hideHardwareSpecs": false,
    "memoryGiB": 4,
    "name": "ml.c5.large",
    "vcpuNum": 2
   },
   {
    "_defaultOrder": 22,
    "_isFastLaunch": false,
    "category": "Compute optimized",
    "gpuNum": 0,
    "hideHardwareSpecs": false,
    "memoryGiB": 8,
    "name": "ml.c5.xlarge",
    "vcpuNum": 4
   },
   {
    "_defaultOrder": 23,
    "_isFastLaunch": false,
    "category": "Compute optimized",
    "gpuNum": 0,
    "hideHardwareSpecs": false,
    "memoryGiB": 16,
    "name": "ml.c5.2xlarge",
    "vcpuNum": 8
   },
   {
    "_defaultOrder": 24,
    "_isFastLaunch": false,
    "category": "Compute optimized",
    "gpuNum": 0,
    "hideHardwareSpecs": false,
    "memoryGiB": 32,
    "name": "ml.c5.4xlarge",
    "vcpuNum": 16
   },
   {
    "_defaultOrder": 25,
    "_isFastLaunch": false,
    "category": "Compute optimized",
    "gpuNum": 0,
    "hideHardwareSpecs": false,
    "memoryGiB": 72,
    "name": "ml.c5.9xlarge",
    "vcpuNum": 36
   },
   {
    "_defaultOrder": 26,
    "_isFastLaunch": false,
    "category": "Compute optimized",
    "gpuNum": 0,
    "hideHardwareSpecs": false,
    "memoryGiB": 96,
    "name": "ml.c5.12xlarge",
    "vcpuNum": 48
   },
   {
    "_defaultOrder": 27,
    "_isFastLaunch": false,
    "category": "Compute optimized",
    "gpuNum": 0,
    "hideHardwareSpecs": false,
    "memoryGiB": 144,
    "name": "ml.c5.18xlarge",
    "vcpuNum": 72
   },
   {
    "_defaultOrder": 28,
    "_isFastLaunch": false,
    "category": "Compute optimized",
    "gpuNum": 0,
    "hideHardwareSpecs": false,
    "memoryGiB": 192,
    "name": "ml.c5.24xlarge",
    "vcpuNum": 96
   },
   {
    "_defaultOrder": 29,
    "_isFastLaunch": true,
    "category": "Accelerated computing",
    "gpuNum": 1,
    "hideHardwareSpecs": false,
    "memoryGiB": 16,
    "name": "ml.g4dn.xlarge",
    "vcpuNum": 4
   },
   {
    "_defaultOrder": 30,
    "_isFastLaunch": false,
    "category": "Accelerated computing",
    "gpuNum": 1,
    "hideHardwareSpecs": false,
    "memoryGiB": 32,
    "name": "ml.g4dn.2xlarge",
    "vcpuNum": 8
   },
   {
    "_defaultOrder": 31,
    "_isFastLaunch": false,
    "category": "Accelerated computing",
    "gpuNum": 1,
    "hideHardwareSpecs": false,
    "memoryGiB": 64,
    "name": "ml.g4dn.4xlarge",
    "vcpuNum": 16
   },
   {
    "_defaultOrder": 32,
    "_isFastLaunch": false,
    "category": "Accelerated computing",
    "gpuNum": 1,
    "hideHardwareSpecs": false,
    "memoryGiB": 128,
    "name": "ml.g4dn.8xlarge",
    "vcpuNum": 32
   },
   {
    "_defaultOrder": 33,
    "_isFastLaunch": false,
    "category": "Accelerated computing",
    "gpuNum": 4,
    "hideHardwareSpecs": false,
    "memoryGiB": 192,
    "name": "ml.g4dn.12xlarge",
    "vcpuNum": 48
   },
   {
    "_defaultOrder": 34,
    "_isFastLaunch": false,
    "category": "Accelerated computing",
    "gpuNum": 1,
    "hideHardwareSpecs": false,
    "memoryGiB": 256,
    "name": "ml.g4dn.16xlarge",
    "vcpuNum": 64
   },
   {
    "_defaultOrder": 35,
    "_isFastLaunch": false,
    "category": "Accelerated computing",
    "gpuNum": 1,
    "hideHardwareSpecs": false,
    "memoryGiB": 61,
    "name": "ml.p3.2xlarge",
    "vcpuNum": 8
   },
   {
    "_defaultOrder": 36,
    "_isFastLaunch": false,
    "category": "Accelerated computing",
    "gpuNum": 4,
    "hideHardwareSpecs": false,
    "memoryGiB": 244,
    "name": "ml.p3.8xlarge",
    "vcpuNum": 32
   },
   {
    "_defaultOrder": 37,
    "_isFastLaunch": false,
    "category": "Accelerated computing",
    "gpuNum": 8,
    "hideHardwareSpecs": false,
    "memoryGiB": 488,
    "name": "ml.p3.16xlarge",
    "vcpuNum": 64
   },
   {
    "_defaultOrder": 38,
    "_isFastLaunch": false,
    "category": "Accelerated computing",
    "gpuNum": 8,
    "hideHardwareSpecs": false,
    "memoryGiB": 768,
    "name": "ml.p3dn.24xlarge",
    "vcpuNum": 96
   },
   {
    "_defaultOrder": 39,
    "_isFastLaunch": false,
    "category": "Memory Optimized",
    "gpuNum": 0,
    "hideHardwareSpecs": false,
    "memoryGiB": 16,
    "name": "ml.r5.large",
    "vcpuNum": 2
   },
   {
    "_defaultOrder": 40,
    "_isFastLaunch": false,
    "category": "Memory Optimized",
    "gpuNum": 0,
    "hideHardwareSpecs": false,
    "memoryGiB": 32,
    "name": "ml.r5.xlarge",
    "vcpuNum": 4
   },
   {
    "_defaultOrder": 41,
    "_isFastLaunch": false,
    "category": "Memory Optimized",
    "gpuNum": 0,
    "hideHardwareSpecs": false,
    "memoryGiB": 64,
    "name": "ml.r5.2xlarge",
    "vcpuNum": 8
   },
   {
    "_defaultOrder": 42,
    "_isFastLaunch": false,
    "category": "Memory Optimized",
    "gpuNum": 0,
    "hideHardwareSpecs": false,
    "memoryGiB": 128,
    "name": "ml.r5.4xlarge",
    "vcpuNum": 16
   },
   {
    "_defaultOrder": 43,
    "_isFastLaunch": false,
    "category": "Memory Optimized",
    "gpuNum": 0,
    "hideHardwareSpecs": false,
    "memoryGiB": 256,
    "name": "ml.r5.8xlarge",
    "vcpuNum": 32
   },
   {
    "_defaultOrder": 44,
    "_isFastLaunch": false,
    "category": "Memory Optimized",
    "gpuNum": 0,
    "hideHardwareSpecs": false,
    "memoryGiB": 384,
    "name": "ml.r5.12xlarge",
    "vcpuNum": 48
   },
   {
    "_defaultOrder": 45,
    "_isFastLaunch": false,
    "category": "Memory Optimized",
    "gpuNum": 0,
    "hideHardwareSpecs": false,
    "memoryGiB": 512,
    "name": "ml.r5.16xlarge",
    "vcpuNum": 64
   },
   {
    "_defaultOrder": 46,
    "_isFastLaunch": false,
    "category": "Memory Optimized",
    "gpuNum": 0,
    "hideHardwareSpecs": false,
    "memoryGiB": 768,
    "name": "ml.r5.24xlarge",
    "vcpuNum": 96
   },
   {
    "_defaultOrder": 47,
    "_isFastLaunch": false,
    "category": "Accelerated computing",
    "gpuNum": 1,
    "hideHardwareSpecs": false,
    "memoryGiB": 16,
    "name": "ml.g5.xlarge",
    "vcpuNum": 4
   },
   {
    "_defaultOrder": 48,
    "_isFastLaunch": false,
    "category": "Accelerated computing",
    "gpuNum": 1,
    "hideHardwareSpecs": false,
    "memoryGiB": 32,
    "name": "ml.g5.2xlarge",
    "vcpuNum": 8
   },
   {
    "_defaultOrder": 49,
    "_isFastLaunch": false,
    "category": "Accelerated computing",
    "gpuNum": 1,
    "hideHardwareSpecs": false,
    "memoryGiB": 64,
    "name": "ml.g5.4xlarge",
    "vcpuNum": 16
   },
   {
    "_defaultOrder": 50,
    "_isFastLaunch": false,
    "category": "Accelerated computing",
    "gpuNum": 1,
    "hideHardwareSpecs": false,
    "memoryGiB": 128,
    "name": "ml.g5.8xlarge",
    "vcpuNum": 32
   },
   {
    "_defaultOrder": 51,
    "_isFastLaunch": false,
    "category": "Accelerated computing",
    "gpuNum": 1,
    "hideHardwareSpecs": false,
    "memoryGiB": 256,
    "name": "ml.g5.16xlarge",
    "vcpuNum": 64
   },
   {
    "_defaultOrder": 52,
    "_isFastLaunch": false,
    "category": "Accelerated computing",
    "gpuNum": 4,
    "hideHardwareSpecs": false,
    "memoryGiB": 192,
    "name": "ml.g5.12xlarge",
    "vcpuNum": 48
   },
   {
    "_defaultOrder": 53,
    "_isFastLaunch": false,
    "category": "Accelerated computing",
    "gpuNum": 4,
    "hideHardwareSpecs": false,
    "memoryGiB": 384,
    "name": "ml.g5.24xlarge",
    "vcpuNum": 96
   },
   {
    "_defaultOrder": 54,
    "_isFastLaunch": false,
    "category": "Accelerated computing",
    "gpuNum": 8,
    "hideHardwareSpecs": false,
    "memoryGiB": 768,
    "name": "ml.g5.48xlarge",
    "vcpuNum": 192
   },
   {
    "_defaultOrder": 55,
    "_isFastLaunch": false,
    "category": "Accelerated computing",
    "gpuNum": 8,
    "hideHardwareSpecs": false,
    "memoryGiB": 1152,
    "name": "ml.p4d.24xlarge",
    "vcpuNum": 96
   },
   {
    "_defaultOrder": 56,
    "_isFastLaunch": false,
    "category": "Accelerated computing",
    "gpuNum": 8,
    "hideHardwareSpecs": false,
    "memoryGiB": 1152,
    "name": "ml.p4de.24xlarge",
    "vcpuNum": 96
   },
   {
    "_defaultOrder": 57,
    "_isFastLaunch": false,
    "category": "Accelerated computing",
    "gpuNum": 0,
    "hideHardwareSpecs": false,
    "memoryGiB": 32,
    "name": "ml.trn1.2xlarge",
    "vcpuNum": 8
   },
   {
    "_defaultOrder": 58,
    "_isFastLaunch": false,
    "category": "Accelerated computing",
    "gpuNum": 0,
    "hideHardwareSpecs": false,
    "memoryGiB": 512,
    "name": "ml.trn1.32xlarge",
    "vcpuNum": 128
   },
   {
    "_defaultOrder": 59,
    "_isFastLaunch": false,
    "category": "Accelerated computing",
    "gpuNum": 0,
    "hideHardwareSpecs": false,
    "memoryGiB": 512,
    "name": "ml.trn1n.32xlarge",
    "vcpuNum": 128
   }
  ],
  "instance_type": "ml.t3.medium",
  "kernelspec": {
   "display_name": "Python 3 (Data Science 3.0)",
   "language": "python",
   "name": "python3__SAGEMAKER_INTERNAL__arn:aws:sagemaker:us-west-2:236514542706:image/sagemaker-data-science-310-v1"
  },
  "language_info": {
   "codemirror_mode": {
    "name": "ipython",
    "version": 3
   },
   "file_extension": ".py",
   "mimetype": "text/x-python",
   "name": "python",
   "nbconvert_exporter": "python",
   "pygments_lexer": "ipython3",
   "version": "3.10.6"
  }
 },
 "nbformat": 4,
 "nbformat_minor": 5
}
